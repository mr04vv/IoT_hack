{
 "cells": [
  {
   "cell_type": "code",
   "execution_count": 36,
   "metadata": {},
   "outputs": [],
   "source": [
    "import numpy as np\n",
    "import pandas as pd\n",
    "from statistics import mean, median, variance, stdev\n",
    "from jubatus.common import Datum\n",
    "from jubatus.classifier.client import Classifier\n",
    "import glob\n",
    "from pprint import pprint\n",
    "\n",
    "JUBATUS_SERVER = \"192.168.3.15\""
   ]
  },
  {
   "cell_type": "code",
   "execution_count": 37,
   "metadata": {},
   "outputs": [
    {
     "data": {
      "text/plain": [
       "'\\n# Jubatus config file\\n\\n{\\n  \"method\" : \"NN\", # nearest neighbor\\n  \"parameter\" : {\\n    \"method\" : \"euclid_lsh\",\\n    \"parameter\" : {\\n      \"hash_num\" : 512\\n    },\\n    \"local_sensitivity\" : 0.1,\\n    \"nearest_neighbor_num\" : 5\\n  },\\n  \"converter\" : {\\n    \"num_filter_types\" : {},\\n    \"num_filter_rules\" : [],\\n    \"num_types\" : {},\\n    \"num_rules\" : [\\n      { \"key\" : \"*\", \"type\" : \"num\"}\\n    ]\\n  }\\n}\\n'"
      ]
     },
     "execution_count": 37,
     "metadata": {},
     "output_type": "execute_result"
    }
   ],
   "source": [
    "\"\"\"\n",
    "# Jubatus config file\n",
    "\n",
    "{\n",
    "  \"method\" : \"NN\", # nearest neighbor\n",
    "  \"parameter\" : {\n",
    "    \"method\" : \"euclid_lsh\",\n",
    "    \"parameter\" : {\n",
    "      \"hash_num\" : 512\n",
    "    },\n",
    "    \"local_sensitivity\" : 0.1,\n",
    "    \"nearest_neighbor_num\" : 5\n",
    "  },\n",
    "  \"converter\" : {\n",
    "    \"num_filter_types\" : {},\n",
    "    \"num_filter_rules\" : [],\n",
    "    \"num_types\" : {},\n",
    "    \"num_rules\" : [\n",
    "      { \"key\" : \"*\", \"type\" : \"num\"}\n",
    "    ]\n",
    "  }\n",
    "}\n",
    "\"\"\""
   ]
  },
  {
   "cell_type": "code",
   "execution_count": 38,
   "metadata": {},
   "outputs": [
    {
     "name": "stdout",
     "output_type": "stream",
     "text": [
      "['./CsvData4Train/SampleData.csv']\n"
     ]
    }
   ],
   "source": [
    "# ここに学習用データを配置する\n",
    "path = './CsvData4Train/*'\n",
    "files = []\n",
    "files = glob.glob(path)\n",
    "print(files)"
   ]
  },
  {
   "cell_type": "code",
   "execution_count": 39,
   "metadata": {},
   "outputs": [],
   "source": [
    "columns = ('ax_mean_0','ay_mean_0','az_mean_0','mx_mean_0','my_mean_0','mz_mean_0',\n",
    "           'ax_mean_1','ay_mean_1','az_mean_1','mx_mean_1','my_mean_1','mz_mean_1',\n",
    "           'ax_mean_2','ay_mean_2','az_mean_2','mx_mean_2','my_mean_2','mz_mean_2',\n",
    "           'ax_mean_3','ay_mean_3','az_mean_3','mx_mean_3','my_mean_3','mz_mean_3',\n",
    "           'ax_mean_4','ay_mean_4','az_mean_4','mx_mean_4','my_mean_4','mz_mean_4',\n",
    "           'ax_mean_5','ay_mean_5','az_mean_5','mx_mean_5','my_mean_5','mz_mean_5',\n",
    "           'ax_mean_6','ay_mean_6','az_mean_6','mx_mean_6','my_mean_6','mz_mean_6',\n",
    "           'ax_mean_7','ay_mean_7','az_mean_7','mx_mean_7','my_mean_7','mz_mean_7',\n",
    "           'ax_mean_8','ay_mean_8','az_mean_8','mx_mean_8','my_mean_8','mz_mean_8',\n",
    "           'ax_mean_9','ay_mean_9','az_mean_9','mx_mean_9','my_mean_9','mz_mean_9',)\n",
    "\n",
    "# columns = ('ax_mean','ay_mean','az_mean',\n",
    "#            'mx_mean','my_mean','mz_mean',)\n",
    "\n",
    "# columns = ('ax_mean','ay_mean','az_mean',\n",
    "#            'mx_mean','my_mean','mz_mean',\n",
    "#            'ax_var','ay_var','az_var',\n",
    "#            'mx_var','my_var','mz_var',)"
   ]
  },
  {
   "cell_type": "code",
   "execution_count": 40,
   "metadata": {},
   "outputs": [],
   "source": [
    "sample_data = pd.read_csv('./CsvData4Train/SampleData.csv', names=columns)\n",
    "#label_1 = pd.read_csv('./CsvData4Train/label_1.csv', names=columns)\n",
    "#label_2 = pd.read_csv('./CsvData4Train/label_2.csv', names=columns)\n",
    "# ... こんな感じでラベルに対応するものを入れていけばOK"
   ]
  },
  {
   "cell_type": "code",
   "execution_count": 41,
   "metadata": {},
   "outputs": [],
   "source": [
    "def train(df, label = \"label\"):\n",
    "    labels = [label for i in range(len(df))]\n",
    "    # preparing for jubatus\n",
    "    features = df.as_matrix()\n",
    "    columns = df.columns.tolist()\n",
    "    \n",
    "    train_data = [] # train data should be Datum type\n",
    "    for x, y in zip(features, labels):\n",
    "        d = Datum({key: value for key, value in zip(columns, x)})\n",
    "        train_data.append([y, d])\n",
    "    client = Classifier(JUBATUS_SERVER, 9199, '')\n",
    "    client.train(train_data)"
   ]
  },
  {
   "cell_type": "code",
   "execution_count": 42,
   "metadata": {},
   "outputs": [],
   "source": [
    "## テスト用データを用意する\n",
    "def create_test_data(df):\n",
    "    columns = df.columns.tolist()\n",
    "    features = df.as_matrix()\n",
    "    test_data = []\n",
    "    for feature in features:\n",
    "        d = Datum({key: value for key, value in zip(columns, feature)})\n",
    "        test_data.append(d)\n",
    "\n",
    "    return test_data\n",
    "\n",
    "def get_most_likely(result):\n",
    "    return max(result, key = lambda x: x.score)"
   ]
  },
  {
   "cell_type": "code",
   "execution_count": 46,
   "metadata": {},
   "outputs": [
    {
     "name": "stderr",
     "output_type": "stream",
     "text": [
      "/Users/oishi/.pyenv/versions/anaconda3-4.3.0/lib/python3.6/site-packages/ipykernel_launcher.py:4: FutureWarning: Method .as_matrix will be removed in a future version. Use .values instead.\n",
      "  after removing the cwd from sys.path.\n"
     ]
    }
   ],
   "source": [
    "client = Classifier(JUBATUS_SERVER, 9199, '')\n",
    "client.clear() # 既に学習済みのモデルがある場合はクリア\n",
    "\n",
    "train(sample_data, label=\"sample\")\n",
    "\n",
    "# train(label_1_train, label=\"label_1\")\n",
    "# train(label_2_train, label=\"label_2\")"
   ]
  },
  {
   "cell_type": "code",
   "execution_count": 49,
   "metadata": {},
   "outputs": [
    {
     "name": "stdout",
     "output_type": "stream",
     "text": [
      "estimate_result{label: sample, score: 9.772686958312988}\n",
      "estimate_result{label: sample, score: 9.806137084960938}\n",
      "estimate_result{label: sample, score: 9.822785377502441}\n",
      "estimate_result{label: sample, score: 9.83140754699707}\n",
      "estimate_result{label: sample, score: 9.810564994812012}\n",
      "estimate_result{label: sample, score: 9.826835632324219}\n",
      "estimate_result{label: sample, score: 9.9064359664917}\n",
      "estimate_result{label: sample, score: 9.833227157592773}\n",
      "estimate_result{label: sample, score: 9.902229309082031}\n",
      "estimate_result{label: sample, score: 9.884968757629395}\n",
      "estimate_result{label: sample, score: 9.836647987365723}\n",
      "estimate_result{label: sample, score: 9.729743957519531}\n",
      "estimate_result{label: sample, score: 9.739594459533691}\n",
      "estimate_result{label: sample, score: 9.848854064941406}\n",
      "estimate_result{label: sample, score: 9.72052001953125}\n",
      "estimate_result{label: sample, score: 9.78827953338623}\n",
      "estimate_result{label: sample, score: 9.733526229858398}\n",
      "estimate_result{label: sample, score: 9.886908531188965}\n",
      "estimate_result{label: sample, score: 9.804059028625488}\n",
      "estimate_result{label: sample, score: 9.753778457641602}\n",
      "estimate_result{label: sample, score: 9.844741821289062}\n",
      "estimate_result{label: sample, score: 9.910284042358398}\n",
      "estimate_result{label: sample, score: 9.819426536560059}\n",
      "estimate_result{label: sample, score: 9.865029335021973}\n",
      "estimate_result{label: sample, score: 9.714357376098633}\n",
      "estimate_result{label: sample, score: 9.792673110961914}\n",
      "estimate_result{label: sample, score: 9.88437557220459}\n",
      "estimate_result{label: sample, score: 9.784988403320312}\n",
      "estimate_result{label: sample, score: 9.647220611572266}\n",
      "estimate_result{label: sample, score: 9.660870552062988}\n",
      "estimate_result{label: sample, score: 9.901060104370117}\n",
      "estimate_result{label: sample, score: 9.87862491607666}\n",
      "estimate_result{label: sample, score: 9.875171661376953}\n"
     ]
    },
    {
     "name": "stderr",
     "output_type": "stream",
     "text": [
      "/Users/oishi/.pyenv/versions/anaconda3-4.3.0/lib/python3.6/site-packages/ipykernel_launcher.py:4: FutureWarning: Method .as_matrix will be removed in a future version. Use .values instead.\n",
      "  after removing the cwd from sys.path.\n"
     ]
    }
   ],
   "source": [
    "sample_test_data = create_test_data(sample_data)\n",
    "\n",
    "#for testdata in [adlingset_test_data,dryerset_test_data,cleaningset_test_data,walkingset_test_data]:\n",
    "for testdata in [sample_test_data]:\n",
    "    client = Classifier(JUBATUS_SERVER, 9199, '')\n",
    "    results = client.classify(testdata)\n",
    "    for result in results:\n",
    "        print(get_most_likely(result))\n",
    "    #print(\"done\")"
   ]
  },
  {
   "cell_type": "code",
   "execution_count": null,
   "metadata": {},
   "outputs": [],
   "source": []
  }
 ],
 "metadata": {
  "kernelspec": {
   "display_name": "Python 3",
   "language": "python",
   "name": "python3"
  },
  "language_info": {
   "codemirror_mode": {
    "name": "ipython",
    "version": 3
   },
   "file_extension": ".py",
   "mimetype": "text/x-python",
   "name": "python",
   "nbconvert_exporter": "python",
   "pygments_lexer": "ipython3",
   "version": "3.6.5"
  }
 },
 "nbformat": 4,
 "nbformat_minor": 2
}
