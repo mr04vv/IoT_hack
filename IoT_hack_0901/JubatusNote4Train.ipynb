{
 "cells": [
  {
   "cell_type": "code",
   "execution_count": 1,
   "metadata": {},
   "outputs": [],
   "source": [
    "import numpy as np\n",
    "import pandas as pd\n",
    "from statistics import mean, median, variance, stdev\n",
    "from jubatus.common import Datum\n",
    "from jubatus.classifier.client import Classifier\n",
    "import glob\n",
    "from pprint import pprint\n",
    "\n",
    "JUBATUS_SERVER = \"192.168.11.26\""
   ]
  },
  {
   "cell_type": "code",
   "execution_count": 2,
   "metadata": {},
   "outputs": [
    {
     "data": {
      "text/plain": [
       "'\\n# Jubatus config file\\n\\n{\\n  \"method\" : \"NN\", # nearest neighbor\\n  \"parameter\" : {\\n    \"method\" : \"euclid_lsh\",\\n    \"parameter\" : {\\n      \"hash_num\" : 512\\n    },\\n    \"local_sensitivity\" : 0.1,\\n    \"nearest_neighbor_num\" : 5\\n  },\\n  \"converter\" : {\\n    \"num_filter_types\" : {},\\n    \"num_filter_rules\" : [],\\n    \"num_types\" : {},\\n    \"num_rules\" : [\\n      { \"key\" : \"*\", \"type\" : \"num\"}\\n    ]\\n  }\\n}\\n'"
      ]
     },
     "execution_count": 2,
     "metadata": {},
     "output_type": "execute_result"
    }
   ],
   "source": [
    "\"\"\"\n",
    "# Jubatus config file\n",
    "\n",
    "{\n",
    "  \"method\" : \"NN\", # nearest neighbor\n",
    "  \"parameter\" : {\n",
    "    \"method\" : \"euclid_lsh\",\n",
    "    \"parameter\" : {\n",
    "      \"hash_num\" : 512\n",
    "    },\n",
    "    \"local_sensitivity\" : 0.1,\n",
    "    \"nearest_neighbor_num\" : 5\n",
    "  },\n",
    "  \"converter\" : {\n",
    "    \"num_filter_types\" : {},\n",
    "    \"num_filter_rules\" : [],\n",
    "    \"num_types\" : {},\n",
    "    \"num_rules\" : [\n",
    "      { \"key\" : \"*\", \"type\" : \"num\"}\n",
    "    ]\n",
    "  }\n",
    "}\n",
    "\"\"\""
   ]
  },
  {
   "cell_type": "code",
   "execution_count": 3,
   "metadata": {},
   "outputs": [
    {
     "name": "stdout",
     "output_type": "stream",
     "text": [
      "['./CsvData4Train/nagama_downup.csv', './CsvData4Train/oshima_rightleft.csv', './CsvData4Train/nagama_rightleft.csv', './CsvData4Train/nagama_leftclock.csv', './CsvData4Train/oishi_updown.csv', './CsvData4Train/oshima_leftclock.csv', './CsvData4Train/nagama_updown.csv', './CsvData4Train/oishi_downup.csv', './CsvData4Train/oishi_rightclock.csv', './CsvData4Train/oshima_leftright.csv', './CsvData4Train/nagama_leftright.csv', './CsvData4Train/nagama_rightclock.csv', './CsvData4Train/oshima_rightclock.csv', './CsvData4Train/oishi_rightleft.csv', './CsvData4Train/oshima_updown.csv', './CsvData4Train/oishi_leftclock.csv', './CsvData4Train/oshima_downup.csv', './CsvData4Train/oishi_leftright.csv', './CsvData4Train/SampleData.csv']\n"
     ]
    }
   ],
   "source": [
    "# ここに学習用データを配置する\n",
    "path = './CsvData4Train/*'\n",
    "files = []\n",
    "files = glob.glob(path)\n",
    "print(files)"
   ]
  },
  {
   "cell_type": "code",
   "execution_count": 4,
   "metadata": {},
   "outputs": [],
   "source": [
    "columns = ('ax_mean_0','ay_mean_0','az_mean_0','mx_mean_0','my_mean_0','mz_mean_0',\n",
    "           'ax_mean_1','ay_mean_1','az_mean_1','mx_mean_1','my_mean_1','mz_mean_1',\n",
    "           'ax_mean_2','ay_mean_2','az_mean_2','mx_mean_2','my_mean_2','mz_mean_2',\n",
    "           'ax_mean_3','ay_mean_3','az_mean_3','mx_mean_3','my_mean_3','mz_mean_3',\n",
    "           'ax_mean_4','ay_mean_4','az_mean_4','mx_mean_4','my_mean_4','mz_mean_4',\n",
    "           'ax_mean_5','ay_mean_5','az_mean_5','mx_mean_5','my_mean_5','mz_mean_5',\n",
    "           'ax_mean_6','ay_mean_6','az_mean_6','mx_mean_6','my_mean_6','mz_mean_6',\n",
    "           'ax_mean_7','ay_mean_7','az_mean_7','mx_mean_7','my_mean_7','mz_mean_7',\n",
    "           'ax_mean_8','ay_mean_8','az_mean_8','mx_mean_8','my_mean_8','mz_mean_8',\n",
    "           'ax_mean_9','ay_mean_9','az_mean_9','mx_mean_9','my_mean_9','mz_mean_9',)\n",
    "\n",
    "# columns = ('ax_mean','ay_mean','az_mean',\n",
    "#            'mx_mean','my_mean','mz_mean',)\n",
    "\n",
    "# columns = ('ax_mean','ay_mean','az_mean',\n",
    "#            'mx_mean','my_mean','mz_mean',\n",
    "#            'ax_var','ay_var','az_var',\n",
    "#            'mx_var','my_var','mz_var',)"
   ]
  },
  {
   "cell_type": "code",
   "execution_count": 5,
   "metadata": {},
   "outputs": [],
   "source": [
    "nagama_downup     = pd.read_csv('./CsvData4Train/nagama_downup.csv', names=columns)\n",
    "nagama_updown     = pd.read_csv('./CsvData4Train/nagama_updown.csv', names=columns)\n",
    "nagama_leftright  = pd.read_csv('./CsvData4Train/nagama_leftright.csv', names=columns)\n",
    "nagama_rightleft  = pd.read_csv('./CsvData4Train/nagama_rightleft.csv', names=columns)\n",
    "nagama_leftclock  = pd.read_csv('./CsvData4Train/nagama_leftclock.csv', names=columns)\n",
    "nagama_rightclock = pd.read_csv('./CsvData4Train/nagama_rightclock.csv', names=columns)\n",
    "oishi_downup      = pd.read_csv('./CsvData4Train/oishi_downup.csv', names=columns)\n",
    "oishi_updown      = pd.read_csv('./CsvData4Train/oishi_updown.csv', names=columns)\n",
    "oishi_leftright   = pd.read_csv('./CsvData4Train/oishi_leftright.csv', names=columns)\n",
    "oishi_rightleft   = pd.read_csv('./CsvData4Train/oishi_rightleft.csv', names=columns)\n",
    "oishi_leftclock   = pd.read_csv('./CsvData4Train/oishi_leftclock.csv', names=columns)\n",
    "oishi_rightclock  = pd.read_csv('./CsvData4Train/oishi_rightclock.csv', names=columns)\n",
    "oshima_downup     = pd.read_csv('./CsvData4Train/oshima_downup.csv', names=columns)\n",
    "oshima_updown     = pd.read_csv('./CsvData4Train/oshima_updown.csv', names=columns)\n",
    "oshima_leftright  = pd.read_csv('./CsvData4Train/oshima_leftright.csv', names=columns)\n",
    "oshima_rightleft  = pd.read_csv('./CsvData4Train/oshima_rightleft.csv', names=columns)\n",
    "oshima_leftclock  = pd.read_csv('./CsvData4Train/oshima_leftclock.csv', names=columns)\n",
    "oshima_rightclock = pd.read_csv('./CsvData4Train/oshima_rightclock.csv', names=columns)\n",
    "\n",
    "#label_1 = pd.read_csv('./CsvData4Train/label_1.csv', names=columns)\n",
    "#label_2 = pd.read_csv('./CsvData4Train/label_2.csv', names=columns)\n",
    "# ... こんな感じでラベルに対応するものを入れていけばOK"
   ]
  },
  {
   "cell_type": "code",
   "execution_count": 6,
   "metadata": {},
   "outputs": [],
   "source": [
    "def train(df, label = \"label\"):\n",
    "    labels = [label for i in range(len(df))]\n",
    "    # preparing for jubatus\n",
    "    features = df.as_matrix()\n",
    "    columns = df.columns.tolist()\n",
    "    \n",
    "    train_data = [] # train data should be Datum type\n",
    "    for x, y in zip(features, labels):\n",
    "        d = Datum({key: value for key, value in zip(columns, x)})\n",
    "        train_data.append([y, d])\n",
    "    client = Classifier(JUBATUS_SERVER, 9199, '')\n",
    "    client.train(train_data)"
   ]
  },
  {
   "cell_type": "code",
   "execution_count": 7,
   "metadata": {},
   "outputs": [],
   "source": [
    "## テスト用データを用意する\n",
    "def create_test_data(df):\n",
    "    columns = df.columns.tolist()\n",
    "    features = df.as_matrix()\n",
    "    test_data = []\n",
    "    for feature in features:\n",
    "        d = Datum({key: value for key, value in zip(columns, feature)})\n",
    "        test_data.append(d)\n",
    "    return test_data\n",
    "\n",
    "def get_most_likely(result):\n",
    "    return max(result, key = lambda x: x.score)"
   ]
  },
  {
   "cell_type": "code",
   "execution_count": 8,
   "metadata": {},
   "outputs": [],
   "source": [
    "dataset = [nagama_downup,nagama_updown,nagama_leftright,nagama_rightleft,nagama_leftclock,nagama_rightclock,\n",
    "           oishi_downup,oishi_updown,oishi_leftright,oishi_rightleft,oishi_leftclock,oishi_rightclock,\n",
    "           oshima_downup,oshima_updown,oshima_leftright,oshima_rightleft,oshima_leftclock,oshima_rightclock,]"
   ]
  },
  {
   "cell_type": "code",
   "execution_count": 9,
   "metadata": {},
   "outputs": [],
   "source": [
    "client = Classifier(JUBATUS_SERVER, 9199, '')\n",
    "client.clear() # 既に学習済みのモデルがある場合はクリア\n",
    "\n",
    "train(nagama_downup[:15]    , label='downup')\n",
    "train(nagama_updown[:15]    , label='updown')\n",
    "train(nagama_leftright[:15] , label='leftright')\n",
    "train(nagama_rightleft[:15] , label='rightleft')\n",
    "train(nagama_leftclock[:15] , label='leftclock')\n",
    "train(nagama_rightclock[:15], label='rightclock')\n",
    "train(oishi_downup[:15]     , label='downup')\n",
    "train(oishi_updown[:15]     , label='updown')\n",
    "train(oishi_leftright[:15]  , label='leftright')\n",
    "train(oishi_rightleft[:15]  , label='rightleft')\n",
    "train(oishi_leftclock[:15]  , label='leftclock')\n",
    "train(oishi_rightclock[:15] , label='rightclock')\n",
    "train(oshima_downup[:15]    , label='downup')\n",
    "train(oshima_updown[:15]    , label='updown')\n",
    "train(oshima_leftright[:15] , label='leftright')\n",
    "train(oshima_rightleft[:15] , label='rightleft')\n",
    "train(oshima_leftclock[:15] , label='leftclock')\n",
    "train(oshima_rightclock[:15], label='rightclock')\n",
    "\n",
    "# train(label_1_train, label=\"label_1\")\n",
    "# train(label_2_train, label=\"label_2\")"
   ]
  },
  {
   "cell_type": "code",
   "execution_count": 10,
   "metadata": {},
   "outputs": [],
   "source": [
    "var_name = lambda val : [k for k, v in globals().items() if id(v) == id(val)]"
   ]
  },
  {
   "cell_type": "code",
   "execution_count": 11,
   "metadata": {},
   "outputs": [
    {
     "name": "stdout",
     "output_type": "stream",
     "text": [
      "nagama_downup\n",
      "estimate_result{label: downup, score: 9.898183929657119}\n",
      "estimate_result{label: downup, score: 9.876431849375553}\n",
      "estimate_result{label: downup, score: 9.895878157215318}\n",
      "estimate_result{label: downup, score: 9.868482062833595}\n",
      "estimate_result{label: downup, score: 9.879264696436627}\n",
      "nagama_updown\n",
      "estimate_result{label: updown, score: 9.936535562198346}\n",
      "estimate_result{label: updown, score: 9.923358786767087}\n",
      "estimate_result{label: updown, score: 9.919470295523055}\n",
      "estimate_result{label: updown, score: 9.900894487124212}\n",
      "estimate_result{label: updown, score: 9.92394045030827}\n",
      "estimate_result{label: updown, score: 9.915213176084153}\n",
      "estimate_result{label: updown, score: 9.920053965176056}\n",
      "nagama_leftright\n",
      "estimate_result{label: leftright, score: 9.91967220479406}\n",
      "estimate_result{label: leftright, score: 9.917348657727443}\n",
      "estimate_result{label: leftright, score: 9.928589473238972}\n",
      "estimate_result{label: leftright, score: 9.89742276909361}\n",
      "estimate_result{label: leftright, score: 9.905144847283301}\n",
      "nagama_rightleft\n",
      "estimate_result{label: rightleft, score: 9.897214681647275}\n",
      "estimate_result{label: rightleft, score: 9.894141227704704}\n",
      "estimate_result{label: rightleft, score: 9.879269519858706}\n",
      "estimate_result{label: rightleft, score: 9.836619843257363}\n",
      "estimate_result{label: rightleft, score: 9.870591562593852}\n",
      "nagama_leftclock\n",
      "estimate_result{label: leftclock, score: 9.900922308185105}\n",
      "estimate_result{label: leftclock, score: 9.901352777016662}\n",
      "estimate_result{label: leftclock, score: 9.858100810525592}\n",
      "estimate_result{label: leftclock, score: 9.86605004331914}\n",
      "estimate_result{label: leftclock, score: 9.868685107850512}\n",
      "estimate_result{label: leftclock, score: 9.883548920010329}\n",
      "estimate_result{label: leftclock, score: 9.886663507997039}\n",
      "nagama_rightclock\n",
      "estimate_result{label: rightclock, score: 9.867330621649563}\n",
      "estimate_result{label: rightclock, score: 9.830022774137547}\n",
      "estimate_result{label: rightclock, score: 9.82600137800962}\n",
      "estimate_result{label: rightclock, score: 9.825426194810241}\n",
      "estimate_result{label: rightclock, score: 9.84136275910133}\n",
      "oishi_downup\n",
      "estimate_result{label: downup, score: 9.864805975768471}\n",
      "estimate_result{label: downup, score: 9.868075916824258}\n",
      "estimate_result{label: downup, score: 9.916765789161193}\n",
      "estimate_result{label: downup, score: 9.768795789593938}\n",
      "estimate_result{label: downup, score: 9.852283350336984}\n",
      "estimate_result{label: downup, score: 9.830609015905715}\n",
      "oishi_updown\n",
      "estimate_result{label: updown, score: 9.903804116490697}\n",
      "estimate_result{label: updown, score: 9.90866153866355}\n",
      "estimate_result{label: updown, score: 9.898010090141332}\n",
      "estimate_result{label: updown, score: 9.909790874218427}\n",
      "estimate_result{label: updown, score: 9.890264407811726}\n",
      "estimate_result{label: updown, score: 9.902270906614747}\n",
      "estimate_result{label: updown, score: 9.898579444104895}\n",
      "estimate_result{label: updown, score: 9.90187094942177}\n",
      "estimate_result{label: updown, score: 9.898764757117252}\n",
      "oishi_leftright\n",
      "estimate_result{label: leftright, score: 9.891044248035378}\n",
      "estimate_result{label: leftright, score: 9.889492142612731}\n",
      "estimate_result{label: leftright, score: 9.87521559957559}\n",
      "estimate_result{label: leftright, score: 9.885632985342639}\n",
      "estimate_result{label: leftright, score: 9.898377964178877}\n",
      "estimate_result{label: leftright, score: 9.912885320130494}\n",
      "estimate_result{label: leftright, score: 9.901671397282854}\n",
      "estimate_result{label: leftright, score: 9.844394256686297}\n",
      "oishi_rightleft\n",
      "estimate_result{label: rightleft, score: 9.875422657884716}\n",
      "estimate_result{label: rightleft, score: 9.805659180401259}\n",
      "estimate_result{label: rightleft, score: 9.889904265093787}\n",
      "estimate_result{label: rightleft, score: 9.886628277476827}\n",
      "estimate_result{label: rightleft, score: 9.823485577072791}\n",
      "estimate_result{label: rightleft, score: 9.875445442715899}\n",
      "estimate_result{label: rightleft, score: 9.856721525535482}\n",
      "oishi_leftclock\n",
      "estimate_result{label: leftclock, score: 9.901488759724115}\n",
      "estimate_result{label: leftclock, score: 9.926066028871531}\n",
      "estimate_result{label: leftclock, score: 9.9105713761929}\n",
      "estimate_result{label: leftclock, score: 9.922393941607229}\n",
      "estimate_result{label: leftclock, score: 9.910374996030145}\n",
      "estimate_result{label: leftclock, score: 9.902067062312693}\n",
      "oishi_rightclock\n",
      "estimate_result{label: rightclock, score: 9.92064232832231}\n",
      "estimate_result{label: rightclock, score: 9.912895331230484}\n",
      "estimate_result{label: rightclock, score: 9.891825767625699}\n",
      "estimate_result{label: rightclock, score: 9.90112629490577}\n",
      "estimate_result{label: rightclock, score: 9.912701723266037}\n",
      "estimate_result{label: rightclock, score: 9.923545034470184}\n",
      "oshima_downup\n",
      "estimate_result{label: downup, score: 9.910956093890448}\n",
      "estimate_result{label: downup, score: 9.867729355365883}\n",
      "estimate_result{label: downup, score: 9.890844102178084}\n",
      "estimate_result{label: downup, score: 9.88257447977913}\n",
      "estimate_result{label: downup, score: 9.900923852513026}\n",
      "oshima_updown\n",
      "estimate_result{label: updown, score: 9.920257622587506}\n",
      "estimate_result{label: updown, score: 9.913678150500559}\n",
      "estimate_result{label: updown, score: 9.91290907336866}\n",
      "estimate_result{label: updown, score: 9.9204589969508}\n",
      "estimate_result{label: updown, score: 9.918115772934131}\n",
      "oshima_leftright\n",
      "estimate_result{label: leftright, score: 9.928607573945573}\n",
      "estimate_result{label: leftright, score: 9.92975897081234}\n",
      "estimate_result{label: leftright, score: 9.918516718405172}\n",
      "estimate_result{label: leftright, score: 9.927065709212446}\n",
      "estimate_result{label: leftright, score: 9.932482986057995}\n",
      "oshima_rightleft\n",
      "estimate_result{label: rightleft, score: 9.931683530203665}\n",
      "estimate_result{label: rightleft, score: 9.90844350015897}\n",
      "estimate_result{label: rightleft, score: 9.900505580684428}\n",
      "estimate_result{label: rightleft, score: 9.924903914283156}\n",
      "estimate_result{label: rightleft, score: 9.803359139821186}\n",
      "oshima_leftclock\n",
      "estimate_result{label: leftclock, score: 9.923734112821757}\n",
      "estimate_result{label: leftclock, score: 9.913102223546948}\n",
      "estimate_result{label: leftclock, score: 9.92742648751624}\n",
      "estimate_result{label: leftclock, score: 9.914646740144837}\n",
      "estimate_result{label: leftclock, score: 9.931115163671302}\n",
      "oshima_rightclock\n",
      "estimate_result{label: rightclock, score: 9.908680600334886}\n",
      "estimate_result{label: rightclock, score: 9.896081143473712}\n",
      "estimate_result{label: rightclock, score: 9.897247506723343}\n",
      "estimate_result{label: rightclock, score: 9.852533571689092}\n",
      "estimate_result{label: rightclock, score: 9.83575787996153}\n"
     ]
    }
   ],
   "source": [
    "for dset in dataset:\n",
    "    test_data = create_test_data(dset[15:])\n",
    "    print(var_name(dset)[0])\n",
    "    for testdata in [test_data]:\n",
    "        client = Classifier(JUBATUS_SERVER, 9199, '')\n",
    "        results = client.classify(testdata)\n",
    "        for result in results:\n",
    "            print(get_most_likely(result))\n",
    "        #print(\"done\")"
   ]
  },
  {
   "cell_type": "code",
   "execution_count": 12,
   "metadata": {},
   "outputs": [],
   "source": [
    "var_name = lambda val : [k for k, v in globals().items() if id(v) == id(val)]"
   ]
  },
  {
   "cell_type": "code",
   "execution_count": 13,
   "metadata": {},
   "outputs": [
    {
     "data": {
      "text/plain": [
       "estimate_result{label: leftclock, score: 9.837968191398838}"
      ]
     },
     "execution_count": 13,
     "metadata": {},
     "output_type": "execute_result"
    }
   ],
   "source": [
    "from jubatus.common import Datum\n",
    "from jubatus.classifier.client import Classifier\n",
    "\n",
    "columns = ('ax_mean_0','ay_mean_0','az_mean_0','mx_mean_0','my_mean_0','mz_mean_0',\n",
    "           'ax_mean_1','ay_mean_1','az_mean_1','mx_mean_1','my_mean_1','mz_mean_1',\n",
    "           'ax_mean_2','ay_mean_2','az_mean_2','mx_mean_2','my_mean_2','mz_mean_2',\n",
    "           'ax_mean_3','ay_mean_3','az_mean_3','mx_mean_3','my_mean_3','mz_mean_3',\n",
    "           'ax_mean_4','ay_mean_4','az_mean_4','mx_mean_4','my_mean_4','mz_mean_4',\n",
    "           'ax_mean_5','ay_mean_5','az_mean_5','mx_mean_5','my_mean_5','mz_mean_5',\n",
    "           'ax_mean_6','ay_mean_6','az_mean_6','mx_mean_6','my_mean_6','mz_mean_6',\n",
    "           'ax_mean_7','ay_mean_7','az_mean_7','mx_mean_7','my_mean_7','mz_mean_7',\n",
    "           'ax_mean_8','ay_mean_8','az_mean_8','mx_mean_8','my_mean_8','mz_mean_8',\n",
    "           'ax_mean_9','ay_mean_9','az_mean_9','mx_mean_9','my_mean_9','mz_mean_9',)\n",
    "\n",
    "def get_most_likely(result):\n",
    "    return max(result, key = lambda x: x.score)\n",
    "\n",
    "def classify(columns, values, srvr_ip, srvr_port):\n",
    "    d = Datum({key: value for key, value in zip(columns, values)})\n",
    "    client = Classifier(srvr_ip, srvr_port, '')\n",
    "    results = client.classify([d])\n",
    "    return get_most_likely(results[0])\n",
    "\n",
    "# JUBATUS_SERVER = \"192.168.3.15\"\n",
    "sample_data = [-0.729666667,-0.126555556,1.497333333,-27.35388889,128.0281111,-156.3126667,-2,-0.496888889,1.687555556,162.329,-71.88155556,25.86377778,-1.551,-1.14125,0.03675,241.021875,-98.569,244.289125,-0.13375,-0.725375,-1.013375,7.162125,55.396,249.992,1.20025,-0.79825,0.033,-239.531625,97.423375,196.454875,1.43575,-0.676125,1.45475,-179.01225,201.07625,-136.342125,-0.087875,-1.3905,0.885875,-15.658375,249.992,-250,-1.903375,-1.6055,1.245625,186.110375,157.194,-227.281625,-2,-1.693375,0.824,249.992,47.37,67.744375,-0.914625,-1.5655,-0.017375,236.479375,-42.942875,249.891875]\n",
    "classify(columns, sample_data, JUBATUS_SERVER, 9199)"
   ]
  },
  {
   "cell_type": "code",
   "execution_count": null,
   "metadata": {},
   "outputs": [],
   "source": []
  },
  {
   "cell_type": "code",
   "execution_count": null,
   "metadata": {},
   "outputs": [],
   "source": []
  },
  {
   "cell_type": "code",
   "execution_count": null,
   "metadata": {},
   "outputs": [],
   "source": []
  }
 ],
 "metadata": {
  "kernelspec": {
   "display_name": "Python 3",
   "language": "python",
   "name": "python3"
  },
  "language_info": {
   "codemirror_mode": {
    "name": "ipython",
    "version": 3
   },
   "file_extension": ".py",
   "mimetype": "text/x-python",
   "name": "python",
   "nbconvert_exporter": "python",
   "pygments_lexer": "ipython3",
   "version": "3.6.4"
  }
 },
 "nbformat": 4,
 "nbformat_minor": 2
}
