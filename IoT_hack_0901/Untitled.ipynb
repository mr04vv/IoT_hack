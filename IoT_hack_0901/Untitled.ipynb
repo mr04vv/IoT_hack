{
 "cells": [
  {
   "cell_type": "code",
   "execution_count": 5,
   "metadata": {},
   "outputs": [
    {
     "name": "stdout",
     "output_type": "stream",
     "text": [
      "leftclock\n",
      "9.837968826293945\n"
     ]
    }
   ],
   "source": [
    "from jubatus.common import Datum\n",
    "from jubatus.classifier.client import Classifier\n",
    "\n",
    "columns = ('ax_mean_0','ay_mean_0','az_mean_0','mx_mean_0','my_mean_0','mz_mean_0',\n",
    "           'ax_mean_1','ay_mean_1','az_mean_1','mx_mean_1','my_mean_1','mz_mean_1',\n",
    "           'ax_mean_2','ay_mean_2','az_mean_2','mx_mean_2','my_mean_2','mz_mean_2',\n",
    "           'ax_mean_3','ay_mean_3','az_mean_3','mx_mean_3','my_mean_3','mz_mean_3',\n",
    "           'ax_mean_4','ay_mean_4','az_mean_4','mx_mean_4','my_mean_4','mz_mean_4',\n",
    "           'ax_mean_5','ay_mean_5','az_mean_5','mx_mean_5','my_mean_5','mz_mean_5',\n",
    "           'ax_mean_6','ay_mean_6','az_mean_6','mx_mean_6','my_mean_6','mz_mean_6',\n",
    "           'ax_mean_7','ay_mean_7','az_mean_7','mx_mean_7','my_mean_7','mz_mean_7',\n",
    "           'ax_mean_8','ay_mean_8','az_mean_8','mx_mean_8','my_mean_8','mz_mean_8',\n",
    "           'ax_mean_9','ay_mean_9','az_mean_9','mx_mean_9','my_mean_9','mz_mean_9',)\n",
    "\n",
    "def get_most_likely(result):\n",
    "    return max(result, key = lambda x: x.score)\n",
    "\n",
    "def classify(columns, values, srvr_ip, srvr_port):\n",
    "    d = Datum({key: value for key, value in zip(columns, values)})\n",
    "    client = Classifier(srvr_ip, srvr_port, '')\n",
    "    results = client.classify([d])\n",
    "    return get_most_likely(results[0])\n",
    "\n",
    "JUBATUS_SERVER = \"192.168.3.15\"\n",
    "sample_data = [-0.729666667,-0.126555556,1.497333333,-27.35388889,128.0281111,-156.3126667,-2,-0.496888889,1.687555556,162.329,-71.88155556,25.86377778,-1.551,-1.14125,0.03675,241.021875,-98.569,244.289125,-0.13375,-0.725375,-1.013375,7.162125,55.396,249.992,1.20025,-0.79825,0.033,-239.531625,97.423375,196.454875,1.43575,-0.676125,1.45475,-179.01225,201.07625,-136.342125,-0.087875,-1.3905,0.885875,-15.658375,249.992,-250,-1.903375,-1.6055,1.245625,186.110375,157.194,-227.281625,-2,-1.693375,0.824,249.992,47.37,67.744375,-0.914625,-1.5655,-0.017375,236.479375,-42.942875,249.891875]\n",
    "result = classify(columns, sample_data, JUBATUS_SERVER, 9199)\n",
    "print(result.label)\n",
    "print(result.score)"
   ]
  },
  {
   "cell_type": "code",
   "execution_count": null,
   "metadata": {},
   "outputs": [],
   "source": []
  }
 ],
 "metadata": {
  "kernelspec": {
   "display_name": "Python 3",
   "language": "python",
   "name": "python3"
  },
  "language_info": {
   "codemirror_mode": {
    "name": "ipython",
    "version": 3
   },
   "file_extension": ".py",
   "mimetype": "text/x-python",
   "name": "python",
   "nbconvert_exporter": "python",
   "pygments_lexer": "ipython3",
   "version": "3.6.5"
  }
 },
 "nbformat": 4,
 "nbformat_minor": 2
}
